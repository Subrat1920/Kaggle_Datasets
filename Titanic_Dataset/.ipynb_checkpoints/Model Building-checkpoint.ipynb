{
 "cells": [
  {
   "cell_type": "markdown",
   "id": "20c2ea00-d011-448e-ad35-35c16337ef52",
   "metadata": {},
   "source": [
    "# Model Building (Baselin Validation Performance)"
   ]
  },
  {
   "cell_type": "markdown",
   "id": "4d8a981d-52e6-4149-9081-b7f9b96f0af4",
   "metadata": {},
   "source": [
    "##### Let's check various model performance with default parameters. Also using cross validation, models we will check\n",
    "    1. Logistic Regression\n",
    "    2. Naive Bayes\n",
    "    3. Decision Tree\n",
    "    4. K-Nearest Neighbor\n",
    "    5. Random Forest\n",
    "    6. Support Vector Classifier"
   ]
  },
  {
   "cell_type": "code",
   "execution_count": 31,
   "id": "4e031a5b-8186-482c-a54d-76baab70582a",
   "metadata": {},
   "outputs": [
    {
     "name": "stdout",
     "output_type": "stream",
     "text": [
      "succesfull\n"
     ]
    }
   ],
   "source": [
    "## importing necessary liraries\n",
    "from sklearn.model_selection import cross_val_score\n",
    "from sklearn.naive_bayes import GaussianNB\n",
    "from sklearn.linear_model import LogisticRegression\n",
    "from sklearn import tree\n",
    "from sklearn.neighbors import KNeighborsClassifier\n",
    "from sklearn.ensemble import RandomForestClassifier\n",
    "from sklearn.svm import SVC\n",
    "print('succesfull')"
   ]
  },
  {
   "cell_type": "code",
   "execution_count": 6,
   "id": "9e83c098-b9f5-4fdb-9fb4-0b25ebc38c3e",
   "metadata": {},
   "outputs": [
    {
     "data": {
      "text/html": [
       "<div>\n",
       "<style scoped>\n",
       "    .dataframe tbody tr th:only-of-type {\n",
       "        vertical-align: middle;\n",
       "    }\n",
       "\n",
       "    .dataframe tbody tr th {\n",
       "        vertical-align: top;\n",
       "    }\n",
       "\n",
       "    .dataframe thead th {\n",
       "        text-align: right;\n",
       "    }\n",
       "</style>\n",
       "<table border=\"1\" class=\"dataframe\">\n",
       "  <thead>\n",
       "    <tr style=\"text-align: right;\">\n",
       "      <th></th>\n",
       "      <th>Survived</th>\n",
       "      <th>Pclass</th>\n",
       "      <th>Age</th>\n",
       "      <th>SibSp</th>\n",
       "      <th>Parch</th>\n",
       "      <th>Fare</th>\n",
       "      <th>cabin_multiple</th>\n",
       "      <th>numeric_ticket</th>\n",
       "      <th>Sex_male</th>\n",
       "      <th>Embarked_Q</th>\n",
       "      <th>...</th>\n",
       "      <th>name_title_Master</th>\n",
       "      <th>name_title_Miss</th>\n",
       "      <th>name_title_Mlle</th>\n",
       "      <th>name_title_Mme</th>\n",
       "      <th>name_title_Mr</th>\n",
       "      <th>name_title_Mrs</th>\n",
       "      <th>name_title_Ms</th>\n",
       "      <th>name_title_Rev</th>\n",
       "      <th>name_title_Sir</th>\n",
       "      <th>name_title_the Countess</th>\n",
       "    </tr>\n",
       "  </thead>\n",
       "  <tbody>\n",
       "    <tr>\n",
       "      <th>0</th>\n",
       "      <td>0</td>\n",
       "      <td>3</td>\n",
       "      <td>22.0</td>\n",
       "      <td>1</td>\n",
       "      <td>0</td>\n",
       "      <td>7.2500</td>\n",
       "      <td>0</td>\n",
       "      <td>0</td>\n",
       "      <td>1</td>\n",
       "      <td>0</td>\n",
       "      <td>...</td>\n",
       "      <td>0</td>\n",
       "      <td>0</td>\n",
       "      <td>0</td>\n",
       "      <td>0</td>\n",
       "      <td>1</td>\n",
       "      <td>0</td>\n",
       "      <td>0</td>\n",
       "      <td>0</td>\n",
       "      <td>0</td>\n",
       "      <td>0</td>\n",
       "    </tr>\n",
       "    <tr>\n",
       "      <th>1</th>\n",
       "      <td>1</td>\n",
       "      <td>1</td>\n",
       "      <td>38.0</td>\n",
       "      <td>1</td>\n",
       "      <td>0</td>\n",
       "      <td>71.2833</td>\n",
       "      <td>1</td>\n",
       "      <td>0</td>\n",
       "      <td>0</td>\n",
       "      <td>0</td>\n",
       "      <td>...</td>\n",
       "      <td>0</td>\n",
       "      <td>0</td>\n",
       "      <td>0</td>\n",
       "      <td>0</td>\n",
       "      <td>0</td>\n",
       "      <td>1</td>\n",
       "      <td>0</td>\n",
       "      <td>0</td>\n",
       "      <td>0</td>\n",
       "      <td>0</td>\n",
       "    </tr>\n",
       "    <tr>\n",
       "      <th>2</th>\n",
       "      <td>1</td>\n",
       "      <td>3</td>\n",
       "      <td>26.0</td>\n",
       "      <td>0</td>\n",
       "      <td>0</td>\n",
       "      <td>7.9250</td>\n",
       "      <td>0</td>\n",
       "      <td>0</td>\n",
       "      <td>0</td>\n",
       "      <td>0</td>\n",
       "      <td>...</td>\n",
       "      <td>0</td>\n",
       "      <td>1</td>\n",
       "      <td>0</td>\n",
       "      <td>0</td>\n",
       "      <td>0</td>\n",
       "      <td>0</td>\n",
       "      <td>0</td>\n",
       "      <td>0</td>\n",
       "      <td>0</td>\n",
       "      <td>0</td>\n",
       "    </tr>\n",
       "    <tr>\n",
       "      <th>3</th>\n",
       "      <td>1</td>\n",
       "      <td>1</td>\n",
       "      <td>35.0</td>\n",
       "      <td>1</td>\n",
       "      <td>0</td>\n",
       "      <td>53.1000</td>\n",
       "      <td>1</td>\n",
       "      <td>1</td>\n",
       "      <td>0</td>\n",
       "      <td>0</td>\n",
       "      <td>...</td>\n",
       "      <td>0</td>\n",
       "      <td>0</td>\n",
       "      <td>0</td>\n",
       "      <td>0</td>\n",
       "      <td>0</td>\n",
       "      <td>1</td>\n",
       "      <td>0</td>\n",
       "      <td>0</td>\n",
       "      <td>0</td>\n",
       "      <td>0</td>\n",
       "    </tr>\n",
       "    <tr>\n",
       "      <th>4</th>\n",
       "      <td>0</td>\n",
       "      <td>3</td>\n",
       "      <td>35.0</td>\n",
       "      <td>0</td>\n",
       "      <td>0</td>\n",
       "      <td>8.0500</td>\n",
       "      <td>0</td>\n",
       "      <td>1</td>\n",
       "      <td>1</td>\n",
       "      <td>0</td>\n",
       "      <td>...</td>\n",
       "      <td>0</td>\n",
       "      <td>0</td>\n",
       "      <td>0</td>\n",
       "      <td>0</td>\n",
       "      <td>1</td>\n",
       "      <td>0</td>\n",
       "      <td>0</td>\n",
       "      <td>0</td>\n",
       "      <td>0</td>\n",
       "      <td>0</td>\n",
       "    </tr>\n",
       "  </tbody>\n",
       "</table>\n",
       "<p>5 rows × 63 columns</p>\n",
       "</div>"
      ],
      "text/plain": [
       "   Survived  Pclass   Age  SibSp  Parch     Fare  cabin_multiple  \\\n",
       "0         0       3  22.0      1      0   7.2500               0   \n",
       "1         1       1  38.0      1      0  71.2833               1   \n",
       "2         1       3  26.0      0      0   7.9250               0   \n",
       "3         1       1  35.0      1      0  53.1000               1   \n",
       "4         0       3  35.0      0      0   8.0500               0   \n",
       "\n",
       "   numeric_ticket  Sex_male  Embarked_Q  ...  name_title_Master  \\\n",
       "0               0         1           0  ...                  0   \n",
       "1               0         0           0  ...                  0   \n",
       "2               0         0           0  ...                  0   \n",
       "3               1         0           0  ...                  0   \n",
       "4               1         1           0  ...                  0   \n",
       "\n",
       "   name_title_Miss  name_title_Mlle  name_title_Mme  name_title_Mr  \\\n",
       "0                0                0               0              1   \n",
       "1                0                0               0              0   \n",
       "2                1                0               0              0   \n",
       "3                0                0               0              0   \n",
       "4                0                0               0              1   \n",
       "\n",
       "   name_title_Mrs  name_title_Ms  name_title_Rev  name_title_Sir  \\\n",
       "0               0              0               0               0   \n",
       "1               1              0               0               0   \n",
       "2               0              0               0               0   \n",
       "3               1              0               0               0   \n",
       "4               0              0               0               0   \n",
       "\n",
       "   name_title_the Countess  \n",
       "0                        0  \n",
       "1                        0  \n",
       "2                        0  \n",
       "3                        0  \n",
       "4                        0  \n",
       "\n",
       "[5 rows x 63 columns]"
      ]
     },
     "execution_count": 6,
     "metadata": {},
     "output_type": "execute_result"
    }
   ],
   "source": [
    "## importing pandas\n",
    "import pandas as pd\n",
    "\n",
    "## loading training dataset\n",
    "df = pd.read_csv('cleaned_train_data.csv')\n",
    "df.head()"
   ]
  },
  {
   "cell_type": "code",
   "execution_count": 13,
   "id": "51aadf22-f1cf-4a70-9b19-63b35763553a",
   "metadata": {},
   "outputs": [],
   "source": [
    "## partitioning the dataset into dependendent and indedependent dataset\n",
    "x = df.iloc[:,1:] # independent dataset\n",
    "y = df.iloc[:,:1] # dependent dataset"
   ]
  },
  {
   "cell_type": "code",
   "execution_count": 14,
   "id": "4dcfac0f-be25-4d1d-ace1-1b3ed7954b85",
   "metadata": {},
   "outputs": [
    {
     "data": {
      "text/plain": [
       "((595, 62), (595, 1), (294, 62), (294, 1))"
      ]
     },
     "execution_count": 14,
     "metadata": {},
     "output_type": "execute_result"
    }
   ],
   "source": [
    "# first of all let's check the accuracy for training data set by splitting them into train and test dataset, also we will check the cross-validation-score\n",
    "from sklearn.model_selection import train_test_split\n",
    "x_train, x_test, y_train, y_test=train_test_split(x,y,test_size=0.33, random_state=42)\n",
    "x_train.shape, y_train.shape, x_test.shape, y_test.shape"
   ]
  },
  {
   "cell_type": "markdown",
   "id": "cc975e04-f7dd-4640-a804-1340310fa644",
   "metadata": {},
   "source": [
    "## Let's check the accuracy and cross-validation-score for each model without hyper-parameter tunning"
   ]
  },
  {
   "cell_type": "markdown",
   "id": "f64a529f-eb24-4c7a-82d6-531bb5668d59",
   "metadata": {},
   "source": [
    "## Logistic Regression"
   ]
  },
  {
   "cell_type": "code",
   "execution_count": 33,
   "id": "021fbc17-a949-41cd-a42b-ce623674e690",
   "metadata": {},
   "outputs": [],
   "source": [
    "## removing warnings\n",
    "import warnings\n",
    "warnings.filterwarnings('ignore')"
   ]
  },
  {
   "cell_type": "code",
   "execution_count": 38,
   "id": "1ac47b4c-20ce-4879-9ba4-dc6f6714b09a",
   "metadata": {},
   "outputs": [
    {
     "name": "stdout",
     "output_type": "stream",
     "text": [
      "accuracy score for test data Logistic Regression is 0.82\n",
      "accuracy score for train data Logistic Regression is 0.827\n",
      "Cross-Validation-Score for Logistic Regression is 0.82\n",
      "Accuracy variance between train and test prediction 0.01\n"
     ]
    }
   ],
   "source": [
    "from sklearn.metrics import accuracy_score\n",
    "lgr = LogisticRegression()\n",
    "lgr.fit(x_train, y_train)\n",
    "y_pred_test = lgr.predict(x_test)\n",
    "y_pred_train = lgr.predict(x_train)\n",
    "print(f'accuracy score for test data Logistic Regression is {round(accuracy_score(y_pred_test, y_test),2)}')\n",
    "print(f'accuracy score for train data Logistic Regression is {round(accuracy_score(y_pred_train, y_train),3)}')\n",
    "print(f'Cross-Validation-Score for Logistic Regression is {round(cross_val_score(lgr,x_train, y_train, cv=5).mean(),2)}')\n",
    "print(f'Accuracy variance between train and test prediction {round(abs(accuracy_score(y_pred_test, y_test)-accuracy_score(y_pred_train, y_train)),2)}')"
   ]
  },
  {
   "cell_type": "markdown",
   "id": "2a8d6765-7861-4a08-9fd6-04327fe94ad7",
   "metadata": {},
   "source": [
    "## Naive Bayes"
   ]
  },
  {
   "cell_type": "code",
   "execution_count": 39,
   "id": "beaadd00-8f33-46bb-b382-abb1a9bb84b1",
   "metadata": {},
   "outputs": [
    {
     "name": "stdout",
     "output_type": "stream",
     "text": [
      "accuracy score for test data Naive Bayes is 0.46\n",
      "accuracy score for train data Bayes is 0.471\n",
      "Cross-Validation-Score for Naive Bayes is 0.45\n",
      "Accuracy variance between train and test prediction 0.01\n"
     ]
    }
   ],
   "source": [
    "from sklearn.metrics import accuracy_score\n",
    "gnb = GaussianNB()\n",
    "gnb.fit(x_train, y_train)\n",
    "y_pred_test = gnb.predict(x_test)\n",
    "y_pred_train = gnb.predict(x_train)\n",
    "print(f'accuracy score for test data Naive Bayes is {round(accuracy_score(y_pred_test, y_test),2)}')\n",
    "print(f'accuracy score for train data Bayes is {round(accuracy_score(y_pred_train, y_train),3)}')\n",
    "print(f'Cross-Validation-Score for Naive Bayes is {round(cross_val_score(gnb,x_train, y_train, cv=5).mean(),2)}')\n",
    "print(f'Accuracy variance between train and test prediction {round(abs(accuracy_score(y_pred_test, y_test)-accuracy_score(y_pred_train, y_train)),2)}')"
   ]
  },
  {
   "cell_type": "markdown",
   "id": "074bb83a-8efb-4c84-8745-8a573468d142",
   "metadata": {},
   "source": [
    "## K Nearest Neighbors"
   ]
  },
  {
   "cell_type": "code",
   "execution_count": 40,
   "id": "d3fa7747-8cb2-4a52-889c-ae91c2edd47d",
   "metadata": {},
   "outputs": [
    {
     "name": "stdout",
     "output_type": "stream",
     "text": [
      "accuracy score for test data KNN is 0.72\n",
      "accuracy score for train data KNN is 0.793\n",
      "Cross-Validation-Score for KNN is 0.69\n",
      "Accuracy variance between train and test prediction 0.07\n"
     ]
    }
   ],
   "source": [
    "knn = KNeighborsClassifier()\n",
    "knn.fit(x_train, y_train)\n",
    "y_pred_test = knn.predict(x_test)\n",
    "y_pred_train = knn.predict(x_train)\n",
    "print(f'accuracy score for test data KNN is {round(accuracy_score(y_pred_test, y_test),2)}')\n",
    "print(f'accuracy score for train data KNN is {round(accuracy_score(y_pred_train, y_train),3)}')\n",
    "print(f'Cross-Validation-Score for KNN is {round(cross_val_score(knn,x_train, y_train, cv=5).mean(),2)}')\n",
    "print(f'Accuracy variance between train and test prediction {round(abs(accuracy_score(y_pred_test, y_test)-accuracy_score(y_pred_train, y_train)),2)}')"
   ]
  },
  {
   "cell_type": "markdown",
   "id": "d071e064-029a-49ad-898f-5c4a451fc8c5",
   "metadata": {},
   "source": [
    "## Random Forest"
   ]
  },
  {
   "cell_type": "code",
   "execution_count": 41,
   "id": "46ce876d-25ff-4e40-bfad-7d5a35ae6852",
   "metadata": {},
   "outputs": [
    {
     "name": "stdout",
     "output_type": "stream",
     "text": [
      "accuracy score for test data Random forest is 0.8\n",
      "accuracy score for train data Random forest is 0.997\n",
      "Cross-Validation-Score for Random forest is 0.83\n",
      "Accuracy variance between train and test prediction 0.2\n"
     ]
    }
   ],
   "source": [
    "rf = RandomForestClassifier()\n",
    "rf.fit(x_train, y_train)\n",
    "y_pred_test = rf.predict(x_test)\n",
    "y_pred_train = rf.predict(x_train)\n",
    "print(f'accuracy score for test data Random forest is {round(accuracy_score(y_pred_test, y_test),2)}')\n",
    "print(f'accuracy score for train data Random forest is {round(accuracy_score(y_pred_train, y_train),3)}')\n",
    "print(f'Cross-Validation-Score for Random forest is {round(cross_val_score(rf,x_train, y_train, cv=5).mean(),2)}')\n",
    "print(f'Accuracy variance between train and test prediction {round(abs(accuracy_score(y_pred_test, y_test)-accuracy_score(y_pred_train, y_train)),2)}')"
   ]
  },
  {
   "cell_type": "markdown",
   "id": "92740148-a436-44ab-90f8-5a2d0563abc8",
   "metadata": {},
   "source": [
    "## Support Vector Classifier"
   ]
  },
  {
   "cell_type": "code",
   "execution_count": 42,
   "id": "0bdc54b3-de70-4bc5-b016-df7de48d6710",
   "metadata": {},
   "outputs": [
    {
     "name": "stdout",
     "output_type": "stream",
     "text": [
      "accuracy score for test data SVC is 0.67\n",
      "accuracy score for train data SVC is 0.682\n",
      "Cross-Validation-Score for SVC is 0.67\n",
      "Accuracy variance between train and test prediction 0.01\n"
     ]
    }
   ],
   "source": [
    "svc = SVC()\n",
    "svc.fit(x_train, y_train)\n",
    "y_pred_test = svc.predict(x_test)\n",
    "y_pred_train = svc.predict(x_train)\n",
    "print(f'accuracy score for test data SVC is {round(accuracy_score(y_pred_test, y_test),2)}')\n",
    "print(f'accuracy score for train data SVC is {round(accuracy_score(y_pred_train, y_train),3)}')\n",
    "print(f'Cross-Validation-Score for SVC is {round(cross_val_score(svc,x_train, y_train, cv=5).mean(),2)}')\n",
    "print(f'Accuracy variance between train and test prediction {round(abs(accuracy_score(y_pred_test, y_test)-accuracy_score(y_pred_train, y_train)),2)}')"
   ]
  },
  {
   "cell_type": "code",
   "execution_count": 51,
   "id": "78906fd4-b040-40e0-81c0-332fe6254771",
   "metadata": {},
   "outputs": [
    {
     "data": {
      "text/html": [
       "<div>\n",
       "<style scoped>\n",
       "    .dataframe tbody tr th:only-of-type {\n",
       "        vertical-align: middle;\n",
       "    }\n",
       "\n",
       "    .dataframe tbody tr th {\n",
       "        vertical-align: top;\n",
       "    }\n",
       "\n",
       "    .dataframe thead th {\n",
       "        text-align: right;\n",
       "    }\n",
       "</style>\n",
       "<table border=\"1\" class=\"dataframe\">\n",
       "  <thead>\n",
       "    <tr style=\"text-align: right;\">\n",
       "      <th></th>\n",
       "      <th>Models</th>\n",
       "      <th>Test Accuracy</th>\n",
       "      <th>Train Accuracy</th>\n",
       "      <th>Cross-Val-Score</th>\n",
       "      <th>Accuracy Variance</th>\n",
       "    </tr>\n",
       "  </thead>\n",
       "  <tbody>\n",
       "    <tr>\n",
       "      <th>0</th>\n",
       "      <td>Logistic Regression</td>\n",
       "      <td>0.82</td>\n",
       "      <td>0.82</td>\n",
       "      <td>0.82</td>\n",
       "      <td>0.01</td>\n",
       "    </tr>\n",
       "    <tr>\n",
       "      <th>1</th>\n",
       "      <td>Naive Bayes</td>\n",
       "      <td>0.46</td>\n",
       "      <td>0.47</td>\n",
       "      <td>0.45</td>\n",
       "      <td>0.01</td>\n",
       "    </tr>\n",
       "    <tr>\n",
       "      <th>2</th>\n",
       "      <td>K Nearest Neighbors</td>\n",
       "      <td>0.72</td>\n",
       "      <td>0.79</td>\n",
       "      <td>0.69</td>\n",
       "      <td>0.07</td>\n",
       "    </tr>\n",
       "    <tr>\n",
       "      <th>3</th>\n",
       "      <td>Random forest</td>\n",
       "      <td>0.80</td>\n",
       "      <td>0.99</td>\n",
       "      <td>0.83</td>\n",
       "      <td>0.20</td>\n",
       "    </tr>\n",
       "    <tr>\n",
       "      <th>4</th>\n",
       "      <td>Support Vector Classifier</td>\n",
       "      <td>0.67</td>\n",
       "      <td>0.68</td>\n",
       "      <td>0.67</td>\n",
       "      <td>0.01</td>\n",
       "    </tr>\n",
       "  </tbody>\n",
       "</table>\n",
       "</div>"
      ],
      "text/plain": [
       "                      Models  Test Accuracy  Train Accuracy  Cross-Val-Score  \\\n",
       "0        Logistic Regression           0.82            0.82             0.82   \n",
       "1                Naive Bayes           0.46            0.47             0.45   \n",
       "2        K Nearest Neighbors           0.72            0.79             0.69   \n",
       "3              Random forest           0.80            0.99             0.83   \n",
       "4  Support Vector Classifier           0.67            0.68             0.67   \n",
       "\n",
       "   Accuracy Variance  \n",
       "0               0.01  \n",
       "1               0.01  \n",
       "2               0.07  \n",
       "3               0.20  \n",
       "4               0.01  "
      ]
     },
     "execution_count": 51,
     "metadata": {},
     "output_type": "execute_result"
    }
   ],
   "source": [
    "report_accuracy = {\n",
    "    'Models' : ['Logistic Regression', 'Naive Bayes', 'K Nearest Neighbors', 'Random forest', 'Support Vector Classifier'],\n",
    "    'Test Accuracy' : [0.82, 0.46,0.72, 0.80,0.67],\n",
    "    'Train Accuracy' : [0.82, 0.47,0.79, 0.99,0.68],\n",
    "    'Cross-Val-Score' : [0.82, 0.45,0.69,0.83, 0.67],\n",
    "    'Accuracy Variance' : [0.01, 0.01,0.07, 0.2,0.01]\n",
    "}\n",
    "report_acc = pd.DataFrame(report_accuracy)\n",
    "report_acc"
   ]
  },
  {
   "cell_type": "markdown",
   "id": "4193231a-1260-4b38-8a37-3631c0e92fcb",
   "metadata": {},
   "source": [
    "##### So, we can finally say that <u><b>Logistic Regression</b></u> is the best model for the Titanic Dataset, and we can finally find the score."
   ]
  }
 ],
 "metadata": {
  "kernelspec": {
   "display_name": "Python 3 (ipykernel)",
   "language": "python",
   "name": "python3"
  },
  "language_info": {
   "codemirror_mode": {
    "name": "ipython",
    "version": 3
   },
   "file_extension": ".py",
   "mimetype": "text/x-python",
   "name": "python",
   "nbconvert_exporter": "python",
   "pygments_lexer": "ipython3",
   "version": "3.11.5"
  }
 },
 "nbformat": 4,
 "nbformat_minor": 5
}
